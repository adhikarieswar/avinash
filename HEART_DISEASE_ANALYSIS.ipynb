{
  "nbformat": 4,
  "nbformat_minor": 0,
  "metadata": {
    "colab": {
      "private_outputs": true,
      "provenance": []
    },
    "kernelspec": {
      "name": "python3",
      "display_name": "Python 3"
    },
    "language_info": {
      "name": "python"
    }
  },
  "cells": [
    {
      "cell_type": "code",
      "execution_count": null,
      "metadata": {
        "id": "LNkIzcjadGK1"
      },
      "outputs": [],
      "source": [
        "import pandas as pd\n",
        "import numpy as np\n",
        "import seaborn as sns\n",
        "import matplotlib.pyplot as plt\n",
        "import plotly.express as px"
      ]
    },
    {
      "cell_type": "code",
      "source": [
        "data=pd.read_csv(r'/content/heart.csv')"
      ],
      "metadata": {
        "id": "-fCoUgoOdbsJ"
      },
      "execution_count": null,
      "outputs": []
    },
    {
      "cell_type": "code",
      "source": [
        "data"
      ],
      "metadata": {
        "id": "XhAX12nGf0mp"
      },
      "execution_count": null,
      "outputs": []
    },
    {
      "cell_type": "code",
      "source": [
        "\n",
        "# checking for null vales\n",
        "data.isnull()"
      ],
      "metadata": {
        "id": "lL-RG04Rf0E7"
      },
      "execution_count": null,
      "outputs": []
    },
    {
      "cell_type": "code",
      "source": [
        "# checking for information\n",
        "data.info()"
      ],
      "metadata": {
        "id": "jdGREZKggEpR"
      },
      "execution_count": null,
      "outputs": []
    },
    {
      "cell_type": "code",
      "source": [
        "# checking for duplicates\n",
        "data.duplicated()"
      ],
      "metadata": {
        "id": "1x91iJKXgixR"
      },
      "execution_count": null,
      "outputs": []
    },
    {
      "cell_type": "code",
      "source": [
        "data=data.drop_duplicates()"
      ],
      "metadata": {
        "id": "-CNM3LLFg0aJ"
      },
      "execution_count": null,
      "outputs": []
    },
    {
      "cell_type": "code",
      "source": [
        "data.describe()"
      ],
      "metadata": {
        "id": "R0p0Yr9Og6ku"
      },
      "execution_count": null,
      "outputs": []
    },
    {
      "cell_type": "code",
      "source": [
        "data.isnull().sum().sum()"
      ],
      "metadata": {
        "id": "HchHIe7xhB8k"
      },
      "execution_count": null,
      "outputs": []
    },
    {
      "cell_type": "code",
      "source": [
        "\n",
        "\n",
        "\n",
        "data"
      ],
      "metadata": {
        "id": "qRy9pXHbhZP2"
      },
      "execution_count": null,
      "outputs": []
    },
    {
      "cell_type": "code",
      "source": [
        "data['exang'].unique()\n",
        "data.corr()\n"
      ],
      "metadata": {
        "id": "8e7MEiWNqUI_"
      },
      "execution_count": null,
      "outputs": []
    },
    {
      "cell_type": "code",
      "source": [
        "# visualization of data\n",
        "import seaborn as sns\n",
        "import matplotlib.pyplot as plt\n",
        "sns.heatmap(data.corr(),annot=True)\n"
      ],
      "metadata": {
        "id": "gEKEw1AZJQfJ"
      },
      "execution_count": null,
      "outputs": []
    },
    {
      "cell_type": "code",
      "source": [
        "sns.pairplot(data)"
      ],
      "metadata": {
        "id": "PaGYqcY9KSzN"
      },
      "execution_count": null,
      "outputs": []
    },
    {
      "cell_type": "code",
      "source": [
        "data.columns\n",
        "pk=data['sex'].value_counts()"
      ],
      "metadata": {
        "id": "mVciz8_cL9WY"
      },
      "execution_count": null,
      "outputs": []
    },
    {
      "cell_type": "code",
      "source": [
        "# visualizing count of  sex\n",
        "sns.histplot(x=data['sex'],y=data['age'],data=data)\n"
      ],
      "metadata": {
        "id": "7mXBkXqbMK_J"
      },
      "execution_count": null,
      "outputs": []
    },
    {
      "cell_type": "code",
      "source": [],
      "metadata": {
        "id": "d4LL3PT0Pxvz"
      },
      "execution_count": null,
      "outputs": []
    },
    {
      "cell_type": "code",
      "source": [
        "# sex,fbs,exang are having values in between range of between 0 to 1  no need of scaling\n",
        "# scaling is required   in order to transform values in between range of 0 to 1 or -1 to +1\n",
        "from sklearn.preprocessing import StandardScaler\n",
        "scaler=StandardScaler()\n",
        "\n",
        "data.columns"
      ],
      "metadata": {
        "id": "FwBwlXGFh1DJ"
      },
      "execution_count": null,
      "outputs": []
    },
    {
      "cell_type": "markdown",
      "source": [
        "scaler.fit_transform(data[['age'])"
      ],
      "metadata": {
        "id": "KHEHSPBBqU3v"
      }
    },
    {
      "cell_type": "code",
      "source": [
        "# visualization of data"
      ],
      "metadata": {
        "id": "fFTbWknlsHN2"
      },
      "execution_count": null,
      "outputs": []
    },
    {
      "cell_type": "code",
      "source": [
        "# created data frame for each and every column we are scaling the values of it\n",
        "delta = pd.DataFrame(\n",
        "    scaler.fit_transform(data[['age', 'sex', 'cp', 'trestbps', 'chol', 'fbs', 'restecg', 'thalach', 'exang', 'oldpeak', 'slope', 'ca', 'thal']]),\n",
        "    columns=['age', 'sex', 'cp', 'trestbps', 'chol', 'fbs', 'restecg', 'thalach', 'exang', 'oldpeak', 'slope', 'ca', 'thal' ])"
      ],
      "metadata": {
        "id": "M17oQuptJSAL"
      },
      "execution_count": null,
      "outputs": []
    },
    {
      "cell_type": "code",
      "source": [
        "delta['target']=data['target']"
      ],
      "metadata": {
        "id": "tnt13fVqJhnT"
      },
      "execution_count": null,
      "outputs": []
    },
    {
      "cell_type": "code",
      "source": [
        "# model building\n",
        "from sklearn.model_selection import train_test_split\n",
        "from sklearn.linear_model import LogisticRegression\n",
        "from  sklearn.tree import DecisionTreeClassifier\n",
        "from sklearn.ensemble import RandomForestClassifier\n",
        "from sklearn.metrics import accuracy_score,classification_report,confusion_matrix"
      ],
      "metadata": {
        "id": "_wiw2B_pQCTL"
      },
      "execution_count": null,
      "outputs": []
    },
    {
      "cell_type": "code",
      "source": [
        "# logistic regression\n",
        "x=delta\n",
        "y=data['target']\n"
      ],
      "metadata": {
        "id": "n-PgSjquSSoT"
      },
      "execution_count": null,
      "outputs": []
    },
    {
      "cell_type": "code",
      "source": [
        "y"
      ],
      "metadata": {
        "id": "y3O-XLtwSq6s"
      },
      "execution_count": null,
      "outputs": []
    },
    {
      "cell_type": "code",
      "source": [
        "lr=LogisticRegression()"
      ],
      "metadata": {
        "id": "2B0Mn4yiTD7U"
      },
      "execution_count": null,
      "outputs": []
    },
    {
      "cell_type": "markdown",
      "source": [],
      "metadata": {
        "id": "-K3yPEwCYLtp"
      }
    },
    {
      "cell_type": "code",
      "source": [
        "k=lr.fit(x_train,y_train)"
      ],
      "metadata": {
        "id": "Dyn1aRHCTOvS"
      },
      "execution_count": null,
      "outputs": []
    },
    {
      "cell_type": "code",
      "source": [
        "y_predl=k.predict(x_test)"
      ],
      "metadata": {
        "id": "TR2BnUoQ9ln7"
      },
      "execution_count": null,
      "outputs": []
    },
    {
      "cell_type": "code",
      "source": [
        "y_predl"
      ],
      "metadata": {
        "id": "lUzpb_XIEiO9"
      },
      "execution_count": null,
      "outputs": []
    },
    {
      "cell_type": "code",
      "source": [
        "# accuracy of logistic regression is good\n",
        "accuracy_score(y_predl,y_test)*100"
      ],
      "metadata": {
        "id": "1z9PqVSDEsZ7"
      },
      "execution_count": null,
      "outputs": []
    },
    {
      "cell_type": "code",
      "source": [
        "confusion_matrix(y_predl,y_test)"
      ],
      "metadata": {
        "id": "fRf7YSUnFIEo"
      },
      "execution_count": null,
      "outputs": []
    },
    {
      "cell_type": "code",
      "source": [
        "# we are training for decision tree classifier\n",
        "dt=DecisionTreeClassifier()\n",
        "dt=dt.fit(x_train,y_train)\n",
        "\n"
      ],
      "metadata": {
        "id": "7-f7Ijw5FQIF"
      },
      "execution_count": null,
      "outputs": []
    },
    {
      "cell_type": "code",
      "source": [
        "y_preddt=dt.predict(x_test)\n"
      ],
      "metadata": {
        "id": "nOsxhDlqGSlb"
      },
      "execution_count": null,
      "outputs": []
    },
    {
      "cell_type": "code",
      "source": [
        "accuracy_score(y_preddt,y_test)*100\n",
        "# compared to logistic regression here  accuracy  score is lesser for decision tree"
      ],
      "metadata": {
        "id": "upfjQo7gGbgC"
      },
      "execution_count": null,
      "outputs": []
    },
    {
      "cell_type": "code",
      "source": [
        "from sklearn.ensemble import RandomForestClassifier\n",
        "rd=RandomForestClassifier()\n",
        "rd=rd.fit(x_train,y_train)\n"
      ],
      "metadata": {
        "id": "EpHsUX6EGj_7"
      },
      "execution_count": null,
      "outputs": []
    },
    {
      "cell_type": "code",
      "source": [
        "y_predrd=rd.predict(x_test)"
      ],
      "metadata": {
        "id": "TKq3412zHsZG"
      },
      "execution_count": null,
      "outputs": []
    },
    {
      "cell_type": "code",
      "source": [
        "accuracy_score(y_predrd,y_test)*100"
      ],
      "metadata": {
        "id": "2TD4hBJOIAo5"
      },
      "execution_count": null,
      "outputs": []
    },
    {
      "cell_type": "code",
      "source": [
        "confusion_matrix(y_preddt,y_test)"
      ],
      "metadata": {
        "id": "251E0VnYIbGr"
      },
      "execution_count": null,
      "outputs": []
    },
    {
      "cell_type": "code",
      "source": [
        "# here upto now random forest has pred"
      ],
      "metadata": {
        "id": "w7JL0egSIizw"
      },
      "execution_count": null,
      "outputs": []
    }
  ]
}